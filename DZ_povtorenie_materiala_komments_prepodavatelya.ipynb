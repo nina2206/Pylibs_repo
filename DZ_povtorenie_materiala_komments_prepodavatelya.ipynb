{
 "cells": [
  {
   "cell_type": "markdown",
   "id": "7da119b1",
   "metadata": {
    "pycharm": {
     "name": "#%% md\n"
    }
   },
   "source": [
    "# **Задание на повторение материала"
   ]
  },
  {
   "cell_type": "code",
   "execution_count": 2,
   "id": "5f994b49",
   "metadata": {
    "pycharm": {
     "name": "#%%\n"
    }
   },
   "outputs": [],
   "source": [
    "%matplotlib inline\n",
    "import numpy as np"
   ]
  },
  {
   "cell_type": "markdown",
   "id": "3853b382",
   "metadata": {
    "pycharm": {
     "name": "#%% md\n"
    }
   },
   "source": [
    "### 1. Создать одномерный массив Numpy под названием a из 12 последовательных целых чисел чисел от 12 до 24 невключительно"
   ]
  },
  {
   "cell_type": "code",
   "execution_count": 3,
   "id": "e9af97c6",
   "metadata": {
    "pycharm": {
     "name": "#%%\n"
    }
   },
   "outputs": [
    {
     "data": {
      "text/plain": [
       "array([12, 13, 14, 15, 16, 17, 18, 19, 20, 21, 22, 23])"
      ]
     },
     "execution_count": 3,
     "metadata": {},
     "output_type": "execute_result"
    }
   ],
   "source": [
    "a = np.array(range(12, 24))\n",
    "a"
   ]
  },
  {
   "cell_type": "markdown",
   "id": "9d0653b4",
   "metadata": {
    "pycharm": {
     "name": "#%% md\n"
    }
   },
   "source": [
    "### 2. Создать 5 двумерных массивов разной формы из массива a. Не использовать в аргументах метода reshape число -1."
   ]
  },
  {
   "cell_type": "code",
   "execution_count": 4,
   "id": "99790b5e",
   "metadata": {
    "pycharm": {
     "name": "#%%\n"
    }
   },
   "outputs": [
    {
     "name": "stdout",
     "output_type": "stream",
     "text": [
      "2*6\n",
      " [[12 13 14 15 16 17]\n",
      " [18 19 20 21 22 23]]\n",
      "3*4\n",
      " [[12 13 14 15]\n",
      " [16 17 18 19]\n",
      " [20 21 22 23]]\n",
      "4*3\n",
      " [[12 13 14]\n",
      " [15 16 17]\n",
      " [18 19 20]\n",
      " [21 22 23]]\n",
      "6*2\n",
      " [[12 13]\n",
      " [14 15]\n",
      " [16 17]\n",
      " [18 19]\n",
      " [20 21]\n",
      " [22 23]]\n",
      "12*1\n",
      " [[12]\n",
      " [13]\n",
      " [14]\n",
      " [15]\n",
      " [16]\n",
      " [17]\n",
      " [18]\n",
      " [19]\n",
      " [20]\n",
      " [21]\n",
      " [22]\n",
      " [23]]\n"
     ]
    }
   ],
   "source": [
    "for i in range(2, np.size(a)+1):\n",
    "    if np.size(a)%i == 0:\n",
    "        a_new = a.reshape(i, int(np.size(a)//i))\n",
    "        print(f'{i}*{int(np.size(a)//i)}\\n', a_new)"
   ]
  },
  {
   "cell_type": "markdown",
   "id": "9493d087",
   "metadata": {
    "pycharm": {
     "name": "#%% md\n"
    }
   },
   "source": [
    "### 3. Создать 5 двумерных массивов разной формы из массива a. Использовать в аргументах метода reshape число -1 (в трех примерах - для обозначения числа столбцов, в двух - для строк)."
   ]
  },
  {
   "cell_type": "code",
   "execution_count": 5,
   "id": "08f97441",
   "metadata": {
    "pycharm": {
     "name": "#%%\n"
    }
   },
   "outputs": [
    {
     "name": "stdout",
     "output_type": "stream",
     "text": [
      "2*6\n",
      " [[12 13 14 15 16 17]\n",
      " [18 19 20 21 22 23]]\n",
      "3*4\n",
      " [[12 13 14 15]\n",
      " [16 17 18 19]\n",
      " [20 21 22 23]]\n",
      "4*3\n",
      " [[12 13 14]\n",
      " [15 16 17]\n",
      " [18 19 20]\n",
      " [21 22 23]]\n",
      "6*2\n",
      " [[12 13]\n",
      " [14 15]\n",
      " [16 17]\n",
      " [18 19]\n",
      " [20 21]\n",
      " [22 23]]\n",
      "12*1\n",
      " [[12]\n",
      " [13]\n",
      " [14]\n",
      " [15]\n",
      " [16]\n",
      " [17]\n",
      " [18]\n",
      " [19]\n",
      " [20]\n",
      " [21]\n",
      " [22]\n",
      " [23]]\n"
     ]
    }
   ],
   "source": [
    "# длина одной из осей задается циклом, длина второй оси вычисляется автоматически (т.к. задан аргумент '-1')\n",
    "for i in range(2, np.size(a)+1):\n",
    "    if np.size(a)%i == 0:\n",
    "        if np.size(a)>=i:\n",
    "            a_new = a.reshape(i, -1)\n",
    "            print(f'{i}*{int(np.size(a)//i)}\\n', a_new)\n",
    "        else:\n",
    "            a_new = a.reshape(-1, i)\n",
    "            print(f'{i}*{int(np.size(a)//i)}\\n', a_new)\n"
   ]
  },
  {
   "cell_type": "markdown",
   "id": "7d499974",
   "metadata": {
    "pycharm": {
     "name": "#%% md\n"
    }
   },
   "source": [
    "### 4. Можно ли массив Numpy, состоящий из одного столбца и 12 строк, назвать одномерным?"
   ]
  },
  {
   "cell_type": "markdown",
   "source": [
    "Также можно проверить атрибут ndim для данного массива"
   ],
   "metadata": {
    "collapsed": false,
    "pycharm": {
     "name": "#%% md\n"
    }
   }
  },
  {
   "cell_type": "code",
   "execution_count": 6,
   "id": "3e1b4458",
   "metadata": {
    "pycharm": {
     "name": "#%%\n"
    }
   },
   "outputs": [
    {
     "name": "stdout",
     "output_type": "stream",
     "text": [
      "Двумерный массив 12*1:\n",
      " [[12]\n",
      " [13]\n",
      " [14]\n",
      " [15]\n",
      " [16]\n",
      " [17]\n",
      " [18]\n",
      " [19]\n",
      " [20]\n",
      " [21]\n",
      " [22]\n",
      " [23]]\n",
      "Одномерный массив, хранится как столбец (ф-я ravel с параметром \"F\")):\n",
      " [12 13 14 15 16 17 18 19 20 21 22 23]\n",
      "Одномерный массив, сжат до одной оси(ф-я reshape с параметром \"-1\"):\n",
      " [12 13 14 15 16 17 18 19 20 21 22 23]\n",
      "Одномерный массив, сжат до одной оси(ф-я flatten):\n",
      " [12 13 14 15 16 17 18 19 20 21 22 23]\n"
     ]
    }
   ],
   "source": [
    "# массив является одномерным , если у него только одна строка (аналогично списку значений типа list, или [..., ..., ...])\n",
    "#массив, у которого много строк, но один столбец, это двумерный массив. Python понимает его как список списков\n",
    "# Для сровнения, двумерный массив 12*1:\n",
    "print('Двумерный массив 12*1:\\n', a_new)\n",
    "# преобразуем в одномерный столбчатый массив (исходный массив сжат до одной оси, но в памяти хранится в столбчатом стиле):\n",
    "print('Одномерный массив, хранится как столбец (ф-я ravel с параметром \"F\")):\\n', np.ravel(a_new, 'F'))\n",
    "print('Одномерный массив, сжат до одной оси(ф-я reshape с параметром \"-1\"):\\n', np.reshape(a_new, -1))\n",
    "print('Одномерный массив, сжат до одной оси(ф-я flatten):\\n', a_new.flatten(order = 'F'))"
   ]
  },
  {
   "cell_type": "markdown",
   "id": "b8e5f8bb",
   "metadata": {
    "pycharm": {
     "name": "#%% md\n"
    }
   },
   "source": [
    "# 5. Создать массив из 3 строк и 4 столбцов, состоящий из случайных чисел с плавающей запятой из нормального распределения со средним, равным 0 и среднеквадратичным отклонением, равным 1.0. Получить из этого массива одномерный массив с таким же атрибутом size, как и исходный массив."
   ]
  },
  {
   "cell_type": "markdown",
   "source": [
    "Чтобы подтвердить, что размер массивов будет одинаковый, следует их сравнить a.size == a_new.size"
   ],
   "metadata": {
    "collapsed": false,
    "pycharm": {
     "name": "#%% md\n"
    }
   }
  },
  {
   "cell_type": "code",
   "execution_count": 7,
   "id": "717b64ff",
   "metadata": {
    "pycharm": {
     "name": "#%%\n"
    }
   },
   "outputs": [
    {
     "name": "stdout",
     "output_type": "stream",
     "text": [
      "Массив 3*4:\n",
      " [[ 1.37278375  0.12677844 -0.09774635 -0.25759434]\n",
      " [-0.01464671 -0.08271857 -0.77473478 -0.7689155 ]\n",
      " [-0.31392483 -0.01243628 -0.38894185  1.18450924]]\n",
      "Одномерный массив: \n",
      " [ 1.37278375  0.12677844 -0.09774635 -0.25759434 -0.01464671 -0.08271857\n",
      " -0.77473478 -0.7689155  -0.31392483 -0.01243628 -0.38894185  1.18450924]\n"
     ]
    }
   ],
   "source": [
    "a = np.random.normal(loc = 0.0, scale = 1.0, size = (3, 4))\n",
    "print('Массив 3*4:\\n', a)\n",
    "a_new = a.reshape(-1)\n",
    "print('Одномерный массив: \\n', a_new)"
   ]
  },
  {
   "cell_type": "markdown",
   "id": "eb3dae28",
   "metadata": {
    "pycharm": {
     "name": "#%% md\n"
    }
   },
   "source": [
    "### 6. Создать массив a, состоящий из целых чисел, убывающих от 20 до 0 невключительно с интервалом 2."
   ]
  },
  {
   "cell_type": "markdown",
   "source": [
    "У метода arange - 3 аргумента (старт, стоп, шаг), шаг может быть отрицательным, можно сделать, следующим образом: np.arange(20, 0, -2)"
   ],
   "metadata": {
    "collapsed": false,
    "pycharm": {
     "name": "#%% md\n"
    }
   }
  },
  {
   "cell_type": "code",
   "execution_count": 8,
   "id": "5ec50a16",
   "metadata": {
    "pycharm": {
     "name": "#%%\n"
    }
   },
   "outputs": [
    {
     "data": {
      "text/plain": [
       "array([19, 17, 15, 13, 11,  9,  7,  5,  3,  1])"
      ]
     },
     "execution_count": 8,
     "metadata": {},
     "output_type": "execute_result"
    }
   ],
   "source": [
    "a = np.arange(1, 20, 2)[::-1]\n",
    "a"
   ]
  },
  {
   "cell_type": "markdown",
   "id": "cb3e4441",
   "metadata": {
    "pycharm": {
     "name": "#%% md\n"
    }
   },
   "source": [
    "### 7. Создать массив b, состоящий из 1 строки и 10 столбцов: целых чисел, убывающих от 20 до 1 невключительно с интервалом 2. В чем разница между массивами a и b?"
   ]
  },
  {
   "cell_type": "markdown",
   "source": [
    "В данном случае надо поменять форму массива, b.shape(1, 10), а потом сравнить их атрибуты ndim, и Вы увидите, чем они отличаются.\n",
    "В данном случае ошибка еще и в том, что массив не включает в себя конечную точку диапазона, в Вашем случае - это 20, а если применить np.arange(20, 1, -2) - то массив исключит 1"
   ],
   "metadata": {
    "collapsed": false,
    "pycharm": {
     "name": "#%% md\n"
    }
   }
  },
  {
   "cell_type": "code",
   "execution_count": 9,
   "id": "9ab39ce3",
   "metadata": {
    "pycharm": {
     "name": "#%%\n"
    }
   },
   "outputs": [
    {
     "data": {
      "text/plain": [
       "array([18, 16, 14, 12, 10,  8,  6,  4,  2])"
      ]
     },
     "execution_count": 9,
     "metadata": {},
     "output_type": "execute_result"
    }
   ],
   "source": [
    "b = np.arange(2, 20, 2)[::-1]\n",
    "b\n",
    "# массивы отличаются сдвигом значений элементо на единицу"
   ]
  },
  {
   "cell_type": "markdown",
   "id": "d6c56b3b",
   "metadata": {
    "pycharm": {
     "name": "#%% md\n"
    }
   },
   "source": [
    "### 8. Вертикально соединить массивы a и b. a - двумерный массив из нулей, число строк которого больше 1 и на 1 меньше, чем число строк двумерного массива b, состоящего из единиц. Итоговый массив v должен иметь атрибут size, равный 10."
   ]
  },
  {
   "cell_type": "code",
   "execution_count": 10,
   "id": "b5cff687",
   "metadata": {
    "pycharm": {
     "name": "#%%\n"
    }
   },
   "outputs": [
    {
     "data": {
      "text/plain": [
       "array([[1, 1],\n",
       "       [1, 1],\n",
       "       [1, 1]])"
      ]
     },
     "execution_count": 10,
     "metadata": {},
     "output_type": "execute_result"
    }
   ],
   "source": [
    "b = np.ones((3, 2), int)\n",
    "b"
   ]
  },
  {
   "cell_type": "code",
   "execution_count": 11,
   "id": "21223d03",
   "metadata": {
    "pycharm": {
     "name": "#%%\n"
    }
   },
   "outputs": [
    {
     "data": {
      "text/plain": [
       "array([[0., 0.],\n",
       "       [0., 0.]])"
      ]
     },
     "execution_count": 11,
     "metadata": {},
     "output_type": "execute_result"
    }
   ],
   "source": [
    "a = np.zeros((2, 2))\n",
    "a"
   ]
  },
  {
   "cell_type": "code",
   "execution_count": 12,
   "id": "648a36c5",
   "metadata": {
    "pycharm": {
     "name": "#%%\n"
    }
   },
   "outputs": [
    {
     "name": "stdout",
     "output_type": "stream",
     "text": [
      "[[0. 0.]\n",
      " [0. 0.]\n",
      " [1. 1.]\n",
      " [1. 1.]\n",
      " [1. 1.]]\n",
      "Размерность нового массива:  10\n"
     ]
    }
   ],
   "source": [
    "v = np.vstack((a, b))\n",
    "print(v)\n",
    "print('Размерность нового массива: ', np.size(v))"
   ]
  },
  {
   "cell_type": "markdown",
   "id": "4e1bd1bb",
   "metadata": {
    "pycharm": {
     "name": "#%% md\n"
    }
   },
   "source": [
    "### 9. Создать одномерный массив а, состоящий из последовательности целых чисел от 0 до 12. Поменять форму этого массива, чтобы получилась матрица A (двумерный массив Numpy), состоящая из 4 строк и 3 столбцов. Получить матрицу At путем транспонирования матрицы A. Получить матрицу B, умножив матрицу A на матрицу At с помощью матричного умножения. Какой размер имеет матрица B? Получится ли вычислить обратную матрицу для матрицы B и почему?\n"
   ]
  },
  {
   "cell_type": "markdown",
   "source": [
    "В Numpy для этого есть функция arange"
   ],
   "metadata": {
    "collapsed": false,
    "pycharm": {
     "name": "#%% md\n"
    }
   }
  },
  {
   "cell_type": "code",
   "execution_count": 13,
   "id": "b806706c",
   "metadata": {
    "pycharm": {
     "name": "#%%\n"
    }
   },
   "outputs": [
    {
     "data": {
      "text/plain": [
       "array([ 0,  1,  2,  3,  4,  5,  6,  7,  8,  9, 10, 11])"
      ]
     },
     "execution_count": 13,
     "metadata": {},
     "output_type": "execute_result"
    }
   ],
   "source": [
    "a = np.array(range(0, 12))\n",
    "a"
   ]
  },
  {
   "cell_type": "code",
   "execution_count": 14,
   "id": "35353418",
   "metadata": {
    "pycharm": {
     "name": "#%%\n"
    }
   },
   "outputs": [
    {
     "data": {
      "text/plain": [
       "array([[ 0,  1,  2],\n",
       "       [ 3,  4,  5],\n",
       "       [ 6,  7,  8],\n",
       "       [ 9, 10, 11]])"
      ]
     },
     "execution_count": 14,
     "metadata": {},
     "output_type": "execute_result"
    }
   ],
   "source": [
    "A = np.reshape(a, (4, 3))\n",
    "A"
   ]
  },
  {
   "cell_type": "code",
   "execution_count": 15,
   "id": "4fb1dbc6",
   "metadata": {
    "pycharm": {
     "name": "#%%\n"
    }
   },
   "outputs": [
    {
     "data": {
      "text/plain": [
       "array([[ 0,  3,  6,  9],\n",
       "       [ 1,  4,  7, 10],\n",
       "       [ 2,  5,  8, 11]])"
      ]
     },
     "execution_count": 15,
     "metadata": {},
     "output_type": "execute_result"
    }
   ],
   "source": [
    "At = A.T\n",
    "At"
   ]
  },
  {
   "cell_type": "code",
   "execution_count": 16,
   "id": "227a585a",
   "metadata": {
    "pycharm": {
     "name": "#%%\n"
    }
   },
   "outputs": [
    {
     "data": {
      "text/plain": [
       "array([[  5,  14,  23,  32],\n",
       "       [ 14,  50,  86, 122],\n",
       "       [ 23,  86, 149, 212],\n",
       "       [ 32, 122, 212, 302]])"
      ]
     },
     "execution_count": 16,
     "metadata": {},
     "output_type": "execute_result"
    }
   ],
   "source": [
    "B = np.dot(A, At)\n",
    "B"
   ]
  },
  {
   "cell_type": "code",
   "execution_count": 17,
   "id": "025b46e9",
   "metadata": {
    "pycharm": {
     "name": "#%%\n"
    }
   },
   "outputs": [
    {
     "name": "stdout",
     "output_type": "stream",
     "text": [
      "Размер матрицы B: (4, 4)\n"
     ]
    }
   ],
   "source": [
    "print('Размер матрицы B:', np.shape(B))"
   ]
  },
  {
   "cell_type": "code",
   "execution_count": 18,
   "id": "759bfb09",
   "metadata": {
    "pycharm": {
     "name": "#%%\n"
    }
   },
   "outputs": [
    {
     "name": "stdout",
     "output_type": "stream",
     "text": [
      "Определитель матрицы равен НУЛЮ – обратной матрицы НЕ СУЩЕСТВУЕТ.\n"
     ]
    }
   ],
   "source": [
    "# Вычисление обратной матрицы для B\n",
    "d = np.linalg.det(B)\n",
    "d \n",
    "if d == 0:\n",
    "    print('Определитель матрицы равен НУЛЮ – обратной матрицы НЕ СУЩЕСТВУЕТ.')\n",
    "else:\n",
    "    B_1 = np.linalg.inv(B)"
   ]
  },
  {
   "cell_type": "markdown",
   "id": "1b0235f9",
   "metadata": {
    "pycharm": {
     "name": "#%% md\n"
    }
   },
   "source": [
    "### 10. Инициализируйте генератор случайных числе с помощью объекта seed, равного 42.\n"
   ]
  },
  {
   "cell_type": "code",
   "execution_count": 19,
   "id": "ac2ef39a",
   "metadata": {
    "pycharm": {
     "name": "#%%\n"
    }
   },
   "outputs": [
    {
     "name": "stdout",
     "output_type": "stream",
     "text": [
      "[0.37454012 0.95071431 0.73199394 0.59865848]\n",
      "[0.15601864 0.15599452 0.05808361 0.86617615]\n",
      "35\n"
     ]
    }
   ],
   "source": [
    "np.random.seed(42)\n",
    "print(np.random.rand(4))\n",
    "print(np.random.rand(4))\n",
    "print(np.random.randint(50))"
   ]
  },
  {
   "cell_type": "markdown",
   "id": "82a09e15",
   "metadata": {
    "pycharm": {
     "name": "#%% md\n"
    }
   },
   "source": [
    "### 11. Создайте одномерный массив c, составленный из последовательности 16-ти случайных равномерно распределенных целых чисел от 0 до 16 невключительно."
   ]
  },
  {
   "cell_type": "markdown",
   "source": [
    "У функции randint в Numpy есть третий аргумент, который позволяет определить количество случайных чисел в массиве, решение задачи могло быть таким: np.random.randint(0, 16, 16)"
   ],
   "metadata": {
    "collapsed": false,
    "pycharm": {
     "name": "#%% md\n"
    }
   }
  },
  {
   "cell_type": "code",
   "execution_count": 20,
   "id": "09ee137f",
   "metadata": {
    "pycharm": {
     "name": "#%%\n"
    }
   },
   "outputs": [
    {
     "data": {
      "text/plain": [
       "array([ 8, 13,  9,  6,  0, 11,  3, 10, 12, 14,  1,  4,  5,  2, 15,  7])"
      ]
     },
     "execution_count": 20,
     "metadata": {},
     "output_type": "execute_result"
    }
   ],
   "source": [
    "c = np.arange(16)\n",
    "np.random.shuffle(c)\n",
    "c"
   ]
  },
  {
   "cell_type": "markdown",
   "id": "2842c822",
   "metadata": {
    "pycharm": {
     "name": "#%% md\n"
    }
   },
   "source": [
    "### 12. Поменяйте его форму так, чтобы получилась квадратная матрица C. Получите матрицу D, поэлементно прибавив матрицу B из предыдущего вопроса к матрице C, умноженной на 10. Вычислите определитель, ранг и обратную матрицу D_inv для D.\n"
   ]
  },
  {
   "cell_type": "code",
   "execution_count": 21,
   "id": "89474a62",
   "metadata": {
    "pycharm": {
     "name": "#%%\n"
    }
   },
   "outputs": [
    {
     "data": {
      "text/plain": [
       "array([[ 8, 13,  9,  6],\n",
       "       [ 0, 11,  3, 10],\n",
       "       [12, 14,  1,  4],\n",
       "       [ 5,  2, 15,  7]])"
      ]
     },
     "execution_count": 21,
     "metadata": {},
     "output_type": "execute_result"
    }
   ],
   "source": [
    "C = c.reshape(int(np.sqrt(np.size(c))), int(np.sqrt(np.size(c))))\n",
    "C"
   ]
  },
  {
   "cell_type": "code",
   "execution_count": 22,
   "id": "2291e9f1",
   "metadata": {
    "pycharm": {
     "name": "#%%\n"
    }
   },
   "outputs": [
    {
     "data": {
      "text/plain": [
       "array([[ 85, 144, 113,  92],\n",
       "       [ 14, 160, 116, 222],\n",
       "       [143, 226, 159, 252],\n",
       "       [ 82, 142, 362, 372]])"
      ]
     },
     "execution_count": 22,
     "metadata": {},
     "output_type": "execute_result"
    }
   ],
   "source": [
    "D = C*10 + B\n",
    "D"
   ]
  },
  {
   "cell_type": "code",
   "execution_count": 23,
   "id": "d47528ee",
   "metadata": {
    "pycharm": {
     "name": "#%%\n"
    }
   },
   "outputs": [
    {
     "data": {
      "text/plain": [
       "-417018399.99999934"
      ]
     },
     "execution_count": 23,
     "metadata": {},
     "output_type": "execute_result"
    }
   ],
   "source": [
    "# Определитель матрицы D\n",
    "d_d = np.linalg.det(D)\n",
    "d_d"
   ]
  },
  {
   "cell_type": "code",
   "execution_count": 24,
   "id": "e04adf98",
   "metadata": {
    "pycharm": {
     "name": "#%%\n"
    }
   },
   "outputs": [
    {
     "data": {
      "text/plain": [
       "4"
      ]
     },
     "execution_count": 24,
     "metadata": {},
     "output_type": "execute_result"
    }
   ],
   "source": [
    "# ранг матрицы D\n",
    "d_rank = np.linalg.matrix_rank(D)\n",
    "d_rank"
   ]
  },
  {
   "cell_type": "code",
   "execution_count": 25,
   "id": "dfaf7c0b",
   "metadata": {
    "pycharm": {
     "name": "#%%\n"
    }
   },
   "outputs": [
    {
     "data": {
      "text/plain": [
       "array([[-0.00579442, -0.01109294,  0.01129173,  0.00040377],\n",
       "       [ 0.01049076,  0.00680929, -0.00504371, -0.00324139],\n",
       "       [ 0.00991625, -0.00099976, -0.00773812,  0.00338618],\n",
       "       [-0.01237696,  0.00081886,  0.00696636,  0.00054132]])"
      ]
     },
     "execution_count": 25,
     "metadata": {},
     "output_type": "execute_result"
    }
   ],
   "source": [
    "# Обратная матрица для D\n",
    "D_inv = np.linalg.inv(D)\n",
    "D_inv"
   ]
  },
  {
   "cell_type": "markdown",
   "id": "fefd23f1",
   "metadata": {
    "pycharm": {
     "name": "#%% md\n"
    }
   },
   "source": [
    "### 13. Приравняйте к нулю отрицательные числа в матрице D_inv, а положительные - к единице. Убедитесь, что в матрице D_inv остались только нули и единицы. С помощью функции numpy.where, используя матрицу D_inv в качестве маски, а матрицы B и C - в качестве источников данных, получите матрицу E размером 4x4.  Элементы матрицы E, для которых соответствующий элемент матрицы D_inv равен 1, должны быть равны соответствующему элементу матрицы B, а элементы матрицы E, для которых соответствующий элемент матрицы D_inv равен 0, должны быть равны соответствующему элементу матрицы C.\n"
   ]
  },
  {
   "cell_type": "code",
   "execution_count": 26,
   "id": "54ade8a8",
   "metadata": {
    "pycharm": {
     "name": "#%%\n"
    }
   },
   "outputs": [
    {
     "data": {
      "text/plain": [
       "array([[0, 0, 1, 1],\n",
       "       [1, 1, 0, 0],\n",
       "       [1, 0, 0, 1],\n",
       "       [0, 1, 1, 1]])"
      ]
     },
     "execution_count": 26,
     "metadata": {},
     "output_type": "execute_result"
    }
   ],
   "source": [
    "D_inv = np.where(D_inv > 0, 1, 0)\n",
    "D_inv"
   ]
  },
  {
   "cell_type": "code",
   "execution_count": 27,
   "id": "72ddcd99",
   "metadata": {
    "pycharm": {
     "name": "#%%\n"
    }
   },
   "outputs": [
    {
     "data": {
      "text/plain": [
       "array([[  8,  13,  23,  32],\n",
       "       [ 14,  50,   3,  10],\n",
       "       [ 23,  14,   1, 212],\n",
       "       [  5, 122, 212, 302]])"
      ]
     },
     "execution_count": 27,
     "metadata": {},
     "output_type": "execute_result"
    }
   ],
   "source": [
    "E = np.where(D_inv==1, B, C)\n",
    "E"
   ]
  }
 ],
 "metadata": {
  "kernelspec": {
   "display_name": "Python 3 (ipykernel)",
   "language": "python",
   "name": "python3"
  },
  "language_info": {
   "codemirror_mode": {
    "name": "ipython",
    "version": 3
   },
   "file_extension": ".py",
   "mimetype": "text/x-python",
   "name": "python",
   "nbconvert_exporter": "python",
   "pygments_lexer": "ipython3",
   "version": "3.9.12"
  }
 },
 "nbformat": 4,
 "nbformat_minor": 5
}