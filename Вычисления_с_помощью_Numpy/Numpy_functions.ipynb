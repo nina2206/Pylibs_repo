{
 "cells": [
  {
   "cell_type": "code",
   "execution_count": 2,
   "id": "5a3b8cc2",
   "metadata": {},
   "outputs": [],
   "source": [
    "import numpy as np"
   ]
  },
  {
   "cell_type": "markdown",
   "id": "23e0ea53",
   "metadata": {},
   "source": [
    "# Задание 1"
   ]
  },
  {
   "cell_type": "code",
   "execution_count": 3,
   "id": "5025091d",
   "metadata": {},
   "outputs": [
    {
     "data": {
      "text/plain": [
       "array([[ 1,  6],\n",
       "       [ 2,  8],\n",
       "       [ 3, 11],\n",
       "       [ 3, 10],\n",
       "       [ 1,  7]])"
      ]
     },
     "execution_count": 3,
     "metadata": {},
     "output_type": "execute_result"
    }
   ],
   "source": [
    "a = np.array([[1, 2, 3, 3, 1], [6, 8, 11, 10, 7]])\n",
    "a = np.transpose(a)\n",
    "a"
   ]
  },
  {
   "cell_type": "code",
   "execution_count": 6,
   "id": "1edeca4c",
   "metadata": {},
   "outputs": [
    {
     "data": {
      "text/plain": [
       "array([2. , 8.4])"
      ]
     },
     "execution_count": 6,
     "metadata": {},
     "output_type": "execute_result"
    }
   ],
   "source": [
    "mean_a = a.mean(axis=0)\n",
    "mean_a"
   ]
  },
  {
   "cell_type": "markdown",
   "id": "88436442",
   "metadata": {},
   "source": [
    "# Задание 2"
   ]
  },
  {
   "cell_type": "code",
   "execution_count": 7,
   "id": "9c57b669",
   "metadata": {},
   "outputs": [
    {
     "data": {
      "text/plain": [
       "array([[-1. , -2.4],\n",
       "       [ 0. , -0.4],\n",
       "       [ 1. ,  2.6],\n",
       "       [ 1. ,  1.6],\n",
       "       [-1. , -1.4]])"
      ]
     },
     "execution_count": 7,
     "metadata": {},
     "output_type": "execute_result"
    }
   ],
   "source": [
    "a_centered = a - mean_a\n",
    "a_centered"
   ]
  },
  {
   "cell_type": "markdown",
   "id": "7b1fcb4f",
   "metadata": {},
   "source": [
    "# Задание 3"
   ]
  },
  {
   "cell_type": "code",
   "execution_count": 36,
   "id": "adfea14a",
   "metadata": {},
   "outputs": [
    {
     "name": "stdout",
     "output_type": "stream",
     "text": [
      "Скалярное произведение столбцов массива: 0.9600\n",
      "Ковариация признаков: 0.1067\n"
     ]
    }
   ],
   "source": [
    "N = np.size(a)\n",
    "a_centered_sp = np.sum(a_centered[0] * a_centered[1])\n",
    "print(f\"Скалярное произведение столбцов массива: {a_centered_sp:,.4f}\")\n",
    "cov = a_centered_sp / (N-1)\n",
    "print(f\"Ковариация признаков: {cov:,.4f}\")"
   ]
  },
  {
   "cell_type": "markdown",
   "id": "502143be",
   "metadata": {},
   "source": [
    "# Задание 4"
   ]
  },
  {
   "cell_type": "code",
   "execution_count": 37,
   "id": "d4ff0a50",
   "metadata": {},
   "outputs": [
    {
     "name": "stdout",
     "output_type": "stream",
     "text": [
      "Ковариационная матрица:\n",
      " [[1.  2. ]\n",
      " [2.  4.3]]\n",
      "Выборочная ковариация: 2.0\n"
     ]
    }
   ],
   "source": [
    "m = np.transpose(a)\n",
    "cov_matrix = np.cov(m)\n",
    "print(\"Ковариационная матрица:\\n\", cov_matrix)\n",
    "print(\"Выборочная ковариация:\", cov_matrix[0][1])"
   ]
  },
  {
   "cell_type": "code",
   "execution_count": null,
   "id": "5d9a7bb3",
   "metadata": {},
   "outputs": [],
   "source": []
  }
 ],
 "metadata": {
  "kernelspec": {
   "display_name": "Python 3 (ipykernel)",
   "language": "python",
   "name": "python3"
  },
  "language_info": {
   "codemirror_mode": {
    "name": "ipython",
    "version": 3
   },
   "file_extension": ".py",
   "mimetype": "text/x-python",
   "name": "python",
   "nbconvert_exporter": "python",
   "pygments_lexer": "ipython3",
   "version": "3.9.12"
  }
 },
 "nbformat": 4,
 "nbformat_minor": 5
}
