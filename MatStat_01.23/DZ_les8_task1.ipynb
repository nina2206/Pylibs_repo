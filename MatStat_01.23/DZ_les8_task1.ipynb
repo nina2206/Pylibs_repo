{
 "cells": [
  {
   "cell_type": "markdown",
   "id": "8218435a",
   "metadata": {},
   "source": [
    "# Урок 8. Дисперсионный анализ. Логистическая регрессия"
   ]
  },
  {
   "cell_type": "markdown",
   "id": "6a969770",
   "metadata": {},
   "source": [
    "1. Провести дисперсионный анализ для определения того, есть ли различия среднего роста среди взрослых футболистов, хоккеистов и штангистов. Даны значения роста в трех группах случайно выбранных спортсменов: Футболисты: 173, 175, 180, 178, 177, 185, 183, 182. Хоккеисты: 177, 179, 180, 188, 177, 172, 171, 184, 180. Штангисты: 172, 173, 169, 177, 166, 180, 178, 177, 172, 166, 170. alpha = 0.05."
   ]
  },
  {
   "cell_type": "code",
   "execution_count": 1,
   "id": "a086bd57",
   "metadata": {},
   "outputs": [],
   "source": [
    "import numpy as np\n",
    "import scipy.stats as stt\n",
    "import matplotlib.pyplot as plt"
   ]
  },
  {
   "cell_type": "code",
   "execution_count": 2,
   "id": "36a8658f",
   "metadata": {},
   "outputs": [
    {
     "name": "stdout",
     "output_type": "stream",
     "text": [
      "Общее число наблюдений, n:  28\n",
      "Количество факторов (наблюдаемых групп), k:  3\n"
     ]
    }
   ],
   "source": [
    "#Дано:\n",
    "ft = np.array([173, 175, 180, 178, 177, 185, 183, 182])\n",
    "n1 = len(ft)\n",
    "hk = np.array([177, 179, 180, 188, 177, 172, 171, 184, 180])\n",
    "n2 = len(hk)\n",
    "st = np.array([172, 173, 169, 177, 166, 180, 178, 177, 172, 166, 170])\n",
    "n3 = len(st)\n",
    "n = n1 + n2 + n3\n",
    "k = 3\n",
    "alph = 0.05\n",
    "print('Общее число наблюдений, n: ', n)\n",
    "print('Количество факторов (наблюдаемых групп), k: ', k)"
   ]
  },
  {
   "cell_type": "code",
   "execution_count": 3,
   "id": "a864c8c0",
   "metadata": {},
   "outputs": [
    {
     "name": "stdout",
     "output_type": "stream",
     "text": [
      "Футболисты: 179.125 \n",
      "Хоккеисты: 178.66666666666666\n",
      "Штангисты: 172.72727272727272\n",
      "Средний рост всех: 176.88852813852813\n"
     ]
    }
   ],
   "source": [
    "# Вычисление статистик\n",
    "# средние\n",
    "ft_m = ft.mean()\n",
    "hk_m = hk.mean()\n",
    "st_m = st.mean()\n",
    "M = (ft_m * n1 + st_m * n2 + hk_m * n3)/ n\n",
    "print(f'Футболисты: {ft_m} \\nХоккеисты: {hk_m}\\nШтангисты: {st_m}\\nСредний рост всех: {M}')"
   ]
  },
  {
   "cell_type": "code",
   "execution_count": 4,
   "id": "56a0ce5b",
   "metadata": {},
   "outputs": [],
   "source": [
    "#S2  — сумма квадратов отклонений наблюдений от общего среднего\n",
    "S2 = sum((ft - M) ** 2) + sum((hk - M) ** 2) + sum((st - M) ** 2)\n",
    "#S2F  — сумма квадратов отклонений средних групповых значений от общего среднего значения  Y¯¯¯¯ :\n",
    "S2f = (ft_m - M) ** 2 * n1 + (hk_m - M) ** 2 * n2 + (st_m - M) ** 2 * n3\n",
    "#S2ост  — остаточная сумма квадратов отклонений:\n",
    "S2r = S2 - S2f\n",
    "#1) общ. дисперс.:\n",
    "D = S2 / (n - 1)\n",
    "#2) факторн. дисперс.:\n",
    "D_f = S2f / k - 1\n",
    "#3) остаточн. дисперс.:\n",
    "D_r = S2r / (n - k)"
   ]
  },
  {
   "cell_type": "code",
   "execution_count": 5,
   "id": "312c89fd",
   "metadata": {},
   "outputs": [
    {
     "data": {
      "text/plain": [
       "3.696154711790488"
      ]
     },
     "execution_count": 5,
     "metadata": {},
     "output_type": "execute_result"
    }
   ],
   "source": [
    "# H0 - гипотеза, что средние выборок равны\n",
    "F_H0 = D_f / D_r\n",
    "F_H0"
   ]
  },
  {
   "cell_type": "markdown",
   "id": "f83bffab",
   "metadata": {},
   "source": [
    "Если значение  FH  превышает  Fкрит  из таблицы критических точек распределения Фишера-Снедекора для заданного уровня\n",
    "\n",
    "значимости  α  двух степеней свободы  dfмежд=k−1  (относится к числителю соотношения) и  dfвнутр=n−k  (относится к знаменателю),\n",
    "\n",
    "то выборки имеют разные средние значения."
   ]
  },
  {
   "cell_type": "code",
   "execution_count": 6,
   "id": "cf0bf5ad",
   "metadata": {},
   "outputs": [],
   "source": [
    "F_extr = 19.45"
   ]
  },
  {
   "cell_type": "code",
   "execution_count": 7,
   "id": "67f720b0",
   "metadata": {},
   "outputs": [
    {
     "data": {
      "text/plain": [
       "0.3097437620891137"
      ]
     },
     "execution_count": 7,
     "metadata": {},
     "output_type": "execute_result"
    }
   ],
   "source": [
    "eta = S2f / S2\n",
    "eta"
   ]
  },
  {
   "cell_type": "markdown",
   "id": "d3b4f7d1",
   "metadata": {},
   "source": [
    "Чем больше значение  η2  (греч. «эта», обозначает эмпирическое корреляционное отношение, располагается между 0 и 1), тем больше\n",
    "\n",
    "вероятность, что выборки имеют разные средние значения. Принято считать, что при значениях  η2  ниже 0.2-0.3 групповые значения\n",
    "\n",
    "средних не имеют статистически достоверного отличия."
   ]
  },
  {
   "cell_type": "markdown",
   "id": "18d8e742",
   "metadata": {},
   "source": [
    "### Вывод: Поскольку критерий Фишера - Снедекора FH0 не превышает критическое табличное значение, средние по выборкам с достоверностью 95% схожи => между группами спортсменов нет существенных статистических отличий. При этом критерий \"эта\" на грани критического значения : чуть больше 0.3 , стало быть исследуемые совокупности отличимы с незначительной степенью достоверности."
   ]
  },
  {
   "cell_type": "code",
   "execution_count": null,
   "id": "4c2c33c3",
   "metadata": {},
   "outputs": [],
   "source": []
  }
 ],
 "metadata": {
  "kernelspec": {
   "display_name": "Python 3 (ipykernel)",
   "language": "python",
   "name": "python3"
  },
  "language_info": {
   "codemirror_mode": {
    "name": "ipython",
    "version": 3
   },
   "file_extension": ".py",
   "mimetype": "text/x-python",
   "name": "python",
   "nbconvert_exporter": "python",
   "pygments_lexer": "ipython3",
   "version": "3.9.12"
  }
 },
 "nbformat": 4,
 "nbformat_minor": 5
}
